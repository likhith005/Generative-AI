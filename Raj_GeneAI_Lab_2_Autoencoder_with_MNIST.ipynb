{
  "cells": [
    {
      "cell_type": "markdown",
      "metadata": {
        "id": "view-in-github",
        "colab_type": "text"
      },
      "source": [
        "<a href=\"https://colab.research.google.com/github/likhith005/Generative-AI/blob/master/Raj_GeneAI_Lab_2_Autoencoder_with_MNIST.ipynb\" target=\"_parent\"><img src=\"https://colab.research.google.com/assets/colab-badge.svg\" alt=\"Open In Colab\"/></a>"
      ]
    },
    {
      "cell_type": "markdown",
      "id": "5328420b",
      "metadata": {
        "id": "5328420b"
      },
      "source": [
        "### Utilize Autoencoders in conjunction with a dataset like MNIST to generate images and evaluate the quality of the generated images.\n",
        "\n"
      ]
    },
    {
      "cell_type": "markdown",
      "source": [
        "https://shorturl.at/dqrtQ"
      ],
      "metadata": {
        "id": "L1pJsZOa1rUu"
      },
      "id": "L1pJsZOa1rUu"
    },
    {
      "cell_type": "code",
      "execution_count": null,
      "id": "1d71e688",
      "metadata": {
        "id": "1d71e688"
      },
      "outputs": [],
      "source": [
        "import numpy as np\n",
        "import matplotlib.pyplot as plt\n",
        "from tensorflow.keras.datasets import mnist\n",
        "from tensorflow.keras.models import Sequential, Model\n",
        "from tensorflow.keras.layers import Input, Dense, Conv2D\n",
        "from tensorflow.keras.layers import Conv2DTranspose, Flatten, Reshape"
      ]
    },
    {
      "cell_type": "code",
      "execution_count": null,
      "id": "49509628",
      "metadata": {
        "id": "49509628"
      },
      "outputs": [],
      "source": [
        "# Load MNIST dataset\n",
        "(train_data, _), (_, _) = mnist.load_data()\n",
        "# Normalize pixel values to be between 0 and 1\n",
        "train_data = train_data.astype('float32') / 255.0\n",
        "# Add channel dimension for convolutional layers\n",
        "train_data = np.expand_dims(train_data, axis=-1)\n",
        "# Define the autoencoder model for image generation\n",
        "input_shape = (28, 28, 1)\n",
        "latent_dim = 32"
      ]
    },
    {
      "cell_type": "markdown",
      "id": "7d00aa54",
      "metadata": {
        "id": "7d00aa54"
      },
      "source": [
        "##### Create Encoder Decoder Model\n"
      ]
    },
    {
      "cell_type": "code",
      "execution_count": null,
      "id": "5ecf5c8c",
      "metadata": {
        "colab": {
          "base_uri": "https://localhost:8080/"
        },
        "id": "5ecf5c8c",
        "outputId": "ae22c769-d9e2-4031-d1f8-2a3b29afa649"
      },
      "outputs": [
        {
          "output_type": "stream",
          "name": "stdout",
          "text": [
            "Model: \"model_1\"\n",
            "_________________________________________________________________\n",
            " Layer (type)                Output Shape              Param #   \n",
            "=================================================================\n",
            " conv2d_3_input (InputLayer  [(None, 28, 28, 1)]       0         \n",
            " )                                                               \n",
            "                                                                 \n",
            " conv2d_3 (Conv2D)           (None, 28, 28, 32)        320       \n",
            "                                                                 \n",
            " conv2d_4 (Conv2D)           (None, 14, 14, 64)        18496     \n",
            "                                                                 \n",
            " conv2d_5 (Conv2D)           (None, 7, 7, 128)         73856     \n",
            "                                                                 \n",
            " flatten_1 (Flatten)         (None, 6272)              0         \n",
            "                                                                 \n",
            " dense_2 (Dense)             (None, 32)                200736    \n",
            "                                                                 \n",
            " sequential_3 (Sequential)   (None, 28, 28, 1)         428929    \n",
            "                                                                 \n",
            "=================================================================\n",
            "Total params: 722337 (2.76 MB)\n",
            "Trainable params: 722337 (2.76 MB)\n",
            "Non-trainable params: 0 (0.00 Byte)\n",
            "_________________________________________________________________\n"
          ]
        }
      ],
      "source": [
        "# Encoder\n",
        "encoder = Sequential([\n",
        "    Conv2D(32, (3, 3), activation='relu', padding='same', input_shape=input_shape),\n",
        "    Conv2D(64, (3, 3), activation='relu', padding='same', strides=2),\n",
        "    Conv2D(128, (3, 3), activation='relu', padding='same', strides=2),\n",
        "    Flatten(),\n",
        "    Dense(latent_dim, activation='relu')\n",
        "])\n",
        "\n",
        "# Decoder\n",
        "decoder = Sequential([\n",
        "    Dense(7 * 7 * 128, activation='relu', input_shape=(latent_dim,)),\n",
        "    Reshape((7, 7, 128)),\n",
        "    Conv2DTranspose(128, (3, 3), activation='relu', padding='same', strides=2),\n",
        "    Conv2DTranspose(64, (3, 3), activation='relu', padding='same', strides=2),\n",
        "    Conv2DTranspose(1, (3, 3), activation='sigmoid', padding='same')\n",
        "])\n",
        "\n",
        "# Combine Encoder and Decoder\n",
        "autoencoder = Model(encoder.input, decoder(encoder.output))\n",
        "\n",
        "# Compile the model\n",
        "autoencoder.compile(optimizer='adam', loss='mse')  # Mean Squared Error loss for image generation\n",
        "autoencoder.summary()"
      ]
    },
    {
      "cell_type": "markdown",
      "id": "6866723e",
      "metadata": {
        "id": "6866723e"
      },
      "source": [
        "##### Train the Model"
      ]
    },
    {
      "cell_type": "code",
      "execution_count": null,
      "id": "746506c2",
      "metadata": {
        "colab": {
          "base_uri": "https://localhost:8080/"
        },
        "id": "746506c2",
        "outputId": "5d12a479-e5cc-4e23-861c-8bbdee18cb97"
      },
      "outputs": [
        {
          "output_type": "stream",
          "name": "stdout",
          "text": [
            "Epoch 1/100\n",
            "235/235 [==============================] - 7s 30ms/step - loss: 0.0045\n",
            "Epoch 2/100\n",
            "235/235 [==============================] - 7s 30ms/step - loss: 0.0044\n",
            "Epoch 3/100\n",
            "235/235 [==============================] - 7s 30ms/step - loss: 0.0043\n",
            "Epoch 4/100\n",
            "235/235 [==============================] - 7s 31ms/step - loss: 0.0042\n",
            "Epoch 5/100\n",
            "235/235 [==============================] - 7s 31ms/step - loss: 0.0042\n",
            "Epoch 6/100\n",
            "235/235 [==============================] - 7s 30ms/step - loss: 0.0041\n",
            "Epoch 7/100\n",
            "235/235 [==============================] - 7s 31ms/step - loss: 0.0040\n",
            "Epoch 8/100\n",
            "235/235 [==============================] - 7s 30ms/step - loss: 0.0040\n",
            "Epoch 9/100\n",
            "235/235 [==============================] - 7s 31ms/step - loss: 0.0039\n",
            "Epoch 10/100\n",
            "235/235 [==============================] - 7s 31ms/step - loss: 0.0039\n",
            "Epoch 11/100\n",
            "235/235 [==============================] - 7s 31ms/step - loss: 0.0038\n",
            "Epoch 12/100\n",
            "235/235 [==============================] - 7s 31ms/step - loss: 0.0038\n",
            "Epoch 13/100\n",
            "235/235 [==============================] - 7s 31ms/step - loss: 0.0037\n",
            "Epoch 14/100\n",
            "235/235 [==============================] - 7s 31ms/step - loss: 0.0037\n",
            "Epoch 15/100\n",
            "235/235 [==============================] - 7s 31ms/step - loss: 0.0036\n",
            "Epoch 16/100\n",
            "235/235 [==============================] - 7s 31ms/step - loss: 0.0036\n",
            "Epoch 17/100\n",
            "235/235 [==============================] - 7s 31ms/step - loss: 0.0036\n",
            "Epoch 18/100\n",
            "235/235 [==============================] - 7s 31ms/step - loss: 0.0035\n",
            "Epoch 19/100\n",
            "235/235 [==============================] - 7s 31ms/step - loss: 0.0035\n",
            "Epoch 20/100\n",
            "235/235 [==============================] - 7s 31ms/step - loss: 0.0035\n",
            "Epoch 21/100\n",
            "235/235 [==============================] - 7s 31ms/step - loss: 0.0034\n",
            "Epoch 22/100\n",
            "235/235 [==============================] - 7s 31ms/step - loss: 0.0034\n",
            "Epoch 23/100\n",
            "235/235 [==============================] - 7s 31ms/step - loss: 0.0034\n",
            "Epoch 24/100\n",
            "235/235 [==============================] - 7s 31ms/step - loss: 0.0034\n",
            "Epoch 25/100\n",
            "235/235 [==============================] - 7s 32ms/step - loss: 0.0033\n",
            "Epoch 26/100\n",
            "235/235 [==============================] - 7s 32ms/step - loss: 0.0033\n",
            "Epoch 27/100\n",
            "235/235 [==============================] - 8s 33ms/step - loss: 0.0033\n",
            "Epoch 28/100\n",
            "235/235 [==============================] - 8s 35ms/step - loss: 0.0033\n",
            "Epoch 29/100\n",
            "235/235 [==============================] - 8s 32ms/step - loss: 0.0033\n",
            "Epoch 30/100\n",
            "235/235 [==============================] - 8s 34ms/step - loss: 0.0032\n",
            "Epoch 31/100\n",
            "235/235 [==============================] - 7s 31ms/step - loss: 0.0032\n",
            "Epoch 32/100\n",
            "235/235 [==============================] - 8s 32ms/step - loss: 0.0032\n",
            "Epoch 33/100\n",
            "235/235 [==============================] - 8s 33ms/step - loss: 0.0032\n",
            "Epoch 34/100\n",
            "235/235 [==============================] - 7s 31ms/step - loss: 0.0032\n",
            "Epoch 35/100\n",
            "235/235 [==============================] - 7s 31ms/step - loss: 0.0031\n",
            "Epoch 36/100\n",
            "235/235 [==============================] - 7s 31ms/step - loss: 0.0031\n",
            "Epoch 37/100\n",
            "235/235 [==============================] - 7s 31ms/step - loss: 0.0031\n",
            "Epoch 38/100\n",
            "235/235 [==============================] - 8s 32ms/step - loss: 0.0031\n",
            "Epoch 39/100\n",
            "235/235 [==============================] - 7s 31ms/step - loss: 0.0031\n",
            "Epoch 40/100\n",
            "235/235 [==============================] - 7s 31ms/step - loss: 0.0031\n",
            "Epoch 41/100\n",
            "235/235 [==============================] - 7s 31ms/step - loss: 0.0031\n",
            "Epoch 42/100\n",
            "235/235 [==============================] - 7s 31ms/step - loss: 0.0030\n",
            "Epoch 43/100\n",
            "235/235 [==============================] - 7s 31ms/step - loss: 0.0030\n",
            "Epoch 44/100\n",
            "235/235 [==============================] - 7s 31ms/step - loss: 0.0030\n",
            "Epoch 45/100\n",
            "235/235 [==============================] - 7s 31ms/step - loss: 0.0030\n",
            "Epoch 46/100\n",
            "235/235 [==============================] - 7s 31ms/step - loss: 0.0030\n",
            "Epoch 47/100\n",
            "235/235 [==============================] - 7s 31ms/step - loss: 0.0030\n",
            "Epoch 48/100\n",
            "235/235 [==============================] - 7s 31ms/step - loss: 0.0030\n",
            "Epoch 49/100\n",
            "235/235 [==============================] - 7s 31ms/step - loss: 0.0030\n",
            "Epoch 50/100\n",
            "235/235 [==============================] - 7s 31ms/step - loss: 0.0029\n",
            "Epoch 51/100\n",
            "235/235 [==============================] - 7s 31ms/step - loss: 0.0029\n",
            "Epoch 52/100\n",
            "235/235 [==============================] - 7s 31ms/step - loss: 0.0029\n",
            "Epoch 53/100\n",
            "235/235 [==============================] - 7s 31ms/step - loss: 0.0029\n",
            "Epoch 54/100\n",
            "235/235 [==============================] - 7s 31ms/step - loss: 0.0029\n",
            "Epoch 55/100\n",
            "235/235 [==============================] - 7s 31ms/step - loss: 0.0029\n",
            "Epoch 56/100\n",
            "235/235 [==============================] - 7s 31ms/step - loss: 0.0029\n",
            "Epoch 57/100\n",
            "235/235 [==============================] - 7s 31ms/step - loss: 0.0029\n",
            "Epoch 58/100\n",
            "235/235 [==============================] - 7s 31ms/step - loss: 0.0029\n",
            "Epoch 59/100\n",
            "235/235 [==============================] - 7s 31ms/step - loss: 0.0029\n",
            "Epoch 60/100\n",
            "235/235 [==============================] - 7s 31ms/step - loss: 0.0029\n",
            "Epoch 61/100\n",
            "235/235 [==============================] - 7s 31ms/step - loss: 0.0028\n",
            "Epoch 62/100\n",
            "235/235 [==============================] - 7s 31ms/step - loss: 0.0028\n",
            "Epoch 63/100\n",
            "235/235 [==============================] - 7s 31ms/step - loss: 0.0028\n",
            "Epoch 64/100\n",
            "235/235 [==============================] - 7s 31ms/step - loss: 0.0028\n",
            "Epoch 65/100\n",
            "235/235 [==============================] - 7s 31ms/step - loss: 0.0028\n",
            "Epoch 66/100\n",
            "235/235 [==============================] - 7s 31ms/step - loss: 0.0028\n",
            "Epoch 67/100\n",
            "235/235 [==============================] - 7s 31ms/step - loss: 0.0028\n",
            "Epoch 68/100\n",
            "235/235 [==============================] - 7s 31ms/step - loss: 0.0028\n",
            "Epoch 69/100\n",
            "235/235 [==============================] - 7s 31ms/step - loss: 0.0028\n",
            "Epoch 70/100\n",
            "235/235 [==============================] - 7s 31ms/step - loss: 0.0028\n",
            "Epoch 71/100\n",
            "235/235 [==============================] - 7s 31ms/step - loss: 0.0028\n",
            "Epoch 72/100\n",
            "235/235 [==============================] - 7s 31ms/step - loss: 0.0028\n",
            "Epoch 73/100\n",
            "235/235 [==============================] - 7s 31ms/step - loss: 0.0028\n",
            "Epoch 74/100\n",
            "235/235 [==============================] - 7s 31ms/step - loss: 0.0028\n",
            "Epoch 75/100\n",
            "235/235 [==============================] - 7s 31ms/step - loss: 0.0027\n",
            "Epoch 76/100\n",
            "235/235 [==============================] - 7s 31ms/step - loss: 0.0027\n",
            "Epoch 77/100\n",
            "235/235 [==============================] - 7s 31ms/step - loss: 0.0027\n",
            "Epoch 78/100\n",
            "235/235 [==============================] - 7s 31ms/step - loss: 0.0027\n",
            "Epoch 79/100\n",
            "235/235 [==============================] - 7s 31ms/step - loss: 0.0027\n",
            "Epoch 80/100\n",
            "235/235 [==============================] - 7s 31ms/step - loss: 0.0027\n",
            "Epoch 81/100\n",
            "235/235 [==============================] - 7s 31ms/step - loss: 0.0027\n",
            "Epoch 82/100\n",
            "235/235 [==============================] - 7s 31ms/step - loss: 0.0027\n",
            "Epoch 83/100\n",
            "235/235 [==============================] - 7s 31ms/step - loss: 0.0027\n",
            "Epoch 84/100\n",
            "235/235 [==============================] - 7s 31ms/step - loss: 0.0027\n",
            "Epoch 85/100\n",
            "235/235 [==============================] - 7s 31ms/step - loss: 0.0027\n",
            "Epoch 86/100\n",
            "235/235 [==============================] - 7s 31ms/step - loss: 0.0027\n",
            "Epoch 87/100\n",
            "235/235 [==============================] - 7s 31ms/step - loss: 0.0027\n",
            "Epoch 88/100\n",
            "235/235 [==============================] - 7s 31ms/step - loss: 0.0027\n",
            "Epoch 89/100\n",
            "235/235 [==============================] - 7s 32ms/step - loss: 0.0027\n",
            "Epoch 90/100\n",
            "235/235 [==============================] - 7s 31ms/step - loss: 0.0027\n",
            "Epoch 91/100\n",
            "235/235 [==============================] - 7s 31ms/step - loss: 0.0026\n",
            "Epoch 92/100\n",
            "235/235 [==============================] - 7s 31ms/step - loss: 0.0026\n",
            "Epoch 93/100\n",
            "235/235 [==============================] - 7s 31ms/step - loss: 0.0026\n",
            "Epoch 94/100\n",
            "235/235 [==============================] - 7s 31ms/step - loss: 0.0026\n",
            "Epoch 95/100\n",
            "235/235 [==============================] - 7s 31ms/step - loss: 0.0026\n",
            "Epoch 96/100\n",
            "235/235 [==============================] - 7s 31ms/step - loss: 0.0026\n",
            "Epoch 97/100\n",
            "235/235 [==============================] - 7s 31ms/step - loss: 0.0026\n",
            "Epoch 98/100\n",
            "235/235 [==============================] - 7s 31ms/step - loss: 0.0026\n",
            "Epoch 99/100\n",
            "235/235 [==============================] - 7s 31ms/step - loss: 0.0026\n",
            "Epoch 100/100\n",
            "235/235 [==============================] - 7s 31ms/step - loss: 0.0026\n"
          ]
        }
      ],
      "source": [
        "# Train the autoencoder\n",
        "history= autoencoder.fit(train_data, train_data, epochs=100, batch_size=256, shuffle=True)\n"
      ]
    },
    {
      "cell_type": "markdown",
      "id": "3c8ca9c4",
      "metadata": {
        "id": "3c8ca9c4"
      },
      "source": [
        "### Train and Val accuracy"
      ]
    },
    {
      "cell_type": "code",
      "execution_count": null,
      "id": "1ce60234",
      "metadata": {
        "colab": {
          "base_uri": "https://localhost:8080/",
          "height": 472
        },
        "id": "1ce60234",
        "outputId": "6295f003-9daa-4e82-fff8-fee480ac0fba"
      },
      "outputs": [
        {
          "output_type": "display_data",
          "data": {
            "text/plain": [
              "<Figure size 640x480 with 1 Axes>"
            ],
            "image/png": "[encoded data removed]"
          },
          "metadata": {}
        }
      ],
      "source": [
        "plt.plot(history.history['loss'], label='Train Loss')\n",
        "plt.title('Reconstruction Loss')\n",
        "plt.xlabel('Epoch')\n",
        "plt.ylabel('Loss')\n",
        "plt.legend()\n",
        "plt.show()"
      ]
    },
    {
      "cell_type": "markdown",
      "id": "5be4b8a5",
      "metadata": {
        "id": "5be4b8a5"
      },
      "source": [
        "#### Generate Images"
      ]
    },
    {
      "cell_type": "code",
      "execution_count": null,
      "id": "a2547b3c",
      "metadata": {
        "colab": {
          "base_uri": "https://localhost:8080/"
        },
        "id": "a2547b3c",
        "outputId": "bd93306b-b7c4-4e89-c6ac-9ed1fb2bfd31"
      },
      "outputs": [
        {
          "output_type": "stream",
          "name": "stdout",
          "text": [
            "1/1 [==============================] - 0s 43ms/step\n"
          ]
        }
      ],
      "source": [
        "# Generate new images using the trained autoencoder\n",
        "latent_samples = np.random.normal(size=(10, latent_dim))  # Generate random samples in the latent space\n",
        "generated_imgs = decoder.predict(latent_samples)"
      ]
    },
    {
      "cell_type": "code",
      "execution_count": null,
      "id": "1f477396",
      "metadata": {
        "colab": {
          "base_uri": "https://localhost:8080/",
          "height": 140
        },
        "id": "1f477396",
        "outputId": "1c420ee6-98e1-47f8-a3dd-099f4d8642c2"
      },
      "outputs": [
        {
          "output_type": "display_data",
          "data": {
            "text/plain": [
              "<Figure size 2000x400 with 10 Axes>"
            ],
            "image/png": "[encoded data removed]"
          },
          "metadata": {}
        }
      ],
      "source": [
        "# Visualize generated images\n",
        "n = 10  # Number of images to display\n",
        "plt.figure(figsize=(20, 4))\n",
        "\n",
        "for i in range(n):\n",
        "    ax = plt.subplot(1, n, i + 1)\n",
        "    plt.imshow(generated_imgs[i].reshape(28, 28))\n",
        "    plt.gray()\n",
        "    ax.get_xaxis().set_visible(False)\n",
        "    ax.get_yaxis().set_visible(False)\n",
        "plt.show()\n"
      ]
    },
    {
      "cell_type": "code",
      "execution_count": null,
      "id": "babc5d11",
      "metadata": {
        "id": "babc5d11"
      },
      "outputs": [],
      "source": [
        "import numpy as np\n",
        "import matplotlib.pyplot as plt\n",
        "from tensorflow.keras.datasets import mnist\n",
        "from tensorflow.keras.models import Sequential, Model\n",
        "from tensorflow.keras.layers import Input, Dense\n",
        "\n",
        "# Load and preprocess the MNIST dataset\n",
        "(x_train, _), (x_test, _) = mnist.load_data()\n",
        "x_train = x_train.astype('float32') / 255.0\n",
        "x_test = x_test.astype('float32') / 255.0\n",
        "x_train = np.reshape(x_train, (len(x_train), 28, 28, 1))\n",
        "x_test = np.reshape(x_test, (len(x_test), 28, 28, 1))"
      ]
    },
    {
      "cell_type": "code",
      "source": [
        "import tensorflow as tf\n",
        "from tensorflow.keras.layers import Input, Dense, Conv2D, MaxPooling2D, UpSampling2D\n",
        "from tensorflow.keras.models import Model\n",
        "from tensorflow.keras.datasets import mnist\n",
        "import numpy as np\n",
        "# Define the autoencoder model\n",
        "input_size = 784  # 28x28 pixels\n",
        "encoding_dim = 32  # Size of the encoded representation\n",
        "\n",
        "input_img = Input(shape=(28, 28, 1))\n",
        "\n",
        "# Encoder\n",
        "x = Conv2D(16, (3, 3), activation='relu', padding='same')(input_img)\n",
        "x = MaxPooling2D((2, 2), padding='same')(x)\n",
        "x = Conv2D(8, (3, 3), activation='relu', padding='same')(x)\n",
        "x = MaxPooling2D((2, 2), padding='same')(x)\n",
        "x = Conv2D(8, (3, 3), activation='relu', padding='same')(x)\n",
        "encoded = MaxPooling2D((2, 2), padding='same')(x)\n",
        "\n",
        "# Decoder\n",
        "x = Conv2D(8, (3, 3), activation='relu', padding='same')(encoded)\n",
        "x =  ((2, 2))(x)\n",
        "x = Conv2D(8, (3, 3), activation='relu', padding='same')(x)\n",
        "x = UpSampling2D((2, 2))(x)\n",
        "x = Conv2D(16, (3, 3), activation='relu')(x)\n",
        "x = UpSampling2D((2, 2))(x)\n",
        "decoded = Conv2D(1, (3, 3), activation='sigmoid', padding='same')(x)\n",
        "\n",
        "# Create the autoencoder model\n",
        "autoencoder = Model(input_img, decoded)\n",
        "\n",
        "# Compile the model\n",
        "autoencoder.compile(optimizer='adam', loss='binary_crossentropy')\n",
        "autoencoder.summary()"
      ],
      "metadata": {
        "colab": {
          "base_uri": "https://localhost:8080/"
        },
        "id": "jNn47A7GIzKX",
        "outputId": "39be93d6-6bf3-4d55-9a2f-2c5708840c8d"
      },
      "id": "jNn47A7GIzKX",
      "execution_count": null,
      "outputs": [
        {
          "output_type": "stream",
          "name": "stdout",
          "text": [
            "Model: \"model_4\"\n",
            "_________________________________________________________________\n",
            " Layer (type)                Output Shape              Param #   \n",
            "=================================================================\n",
            " input_3 (InputLayer)        [(None, 28, 28, 1)]       0         \n",
            "                                                                 \n",
            " conv2d_15 (Conv2D)          (None, 28, 28, 16)        160       \n",
            "                                                                 \n",
            " max_pooling2d_3 (MaxPoolin  (None, 14, 14, 16)        0         \n",
            " g2D)                                                            \n",
            "                                                                 \n",
            " conv2d_16 (Conv2D)          (None, 14, 14, 8)         1160      \n",
            "                                                                 \n",
            " max_pooling2d_4 (MaxPoolin  (None, 7, 7, 8)           0         \n",
            " g2D)                                                            \n",
            "                                                                 \n",
            " conv2d_17 (Conv2D)          (None, 7, 7, 8)           584       \n",
            "                                                                 \n",
            " max_pooling2d_5 (MaxPoolin  (None, 4, 4, 8)           0         \n",
            " g2D)                                                            \n",
            "                                                                 \n",
            " conv2d_18 (Conv2D)          (None, 4, 4, 8)           584       \n",
            "                                                                 \n",
            " up_sampling2d_3 (UpSamplin  (None, 8, 8, 8)           0         \n",
            " g2D)                                                            \n",
            "                                                                 \n",
            " conv2d_19 (Conv2D)          (None, 8, 8, 8)           584       \n",
            "                                                                 \n",
            " up_sampling2d_4 (UpSamplin  (None, 16, 16, 8)         0         \n",
            " g2D)                                                            \n",
            "                                                                 \n",
            " conv2d_20 (Conv2D)          (None, 14, 14, 16)        1168      \n",
            "                                                                 \n",
            " up_sampling2d_5 (UpSamplin  (None, 28, 28, 16)        0         \n",
            " g2D)                                                            \n",
            "                                                                 \n",
            " conv2d_21 (Conv2D)          (None, 28, 28, 1)         145       \n",
            "                                                                 \n",
            "=================================================================\n",
            "Total params: 4385 (17.13 KB)\n",
            "Trainable params: 4385 (17.13 KB)\n",
            "Non-trainable params: 0 (0.00 Byte)\n",
            "_________________________________________________________________\n"
          ]
        }
      ]
    },
    {
      "cell_type": "code",
      "execution_count": null,
      "id": "bcde6422",
      "metadata": {
        "colab": {
          "base_uri": "https://localhost:8080/"
        },
        "id": "bcde6422",
        "outputId": "b47c52e9-eea1-4996-a25e-270b5322dfa2"
      },
      "outputs": [
        {
          "output_type": "stream",
          "name": "stdout",
          "text": [
            "Epoch 1/10\n",
            "469/469 [==============================] - 7s 8ms/step - loss: 0.2174 - val_loss: 0.1458\n",
            "Epoch 2/10\n",
            "469/469 [==============================] - 5s 10ms/step - loss: 0.1363 - val_loss: 0.1276\n",
            "Epoch 3/10\n",
            "469/469 [==============================] - 4s 8ms/step - loss: 0.1236 - val_loss: 0.1200\n",
            "Epoch 4/10\n",
            "469/469 [==============================] - 3s 6ms/step - loss: 0.1171 - val_loss: 0.1136\n",
            "Epoch 5/10\n",
            "469/469 [==============================] - 3s 6ms/step - loss: 0.1131 - val_loss: 0.1106\n",
            "Epoch 6/10\n",
            "469/469 [==============================] - 3s 6ms/step - loss: 0.1103 - val_loss: 0.1080\n",
            "Epoch 7/10\n",
            "469/469 [==============================] - 3s 7ms/step - loss: 0.1084 - val_loss: 0.1064\n",
            "Epoch 8/10\n",
            "469/469 [==============================] - 3s 6ms/step - loss: 0.1068 - val_loss: 0.1049\n",
            "Epoch 9/10\n",
            "469/469 [==============================] - 3s 6ms/step - loss: 0.1055 - val_loss: 0.1039\n",
            "Epoch 10/10\n",
            "469/469 [==============================] - 3s 6ms/step - loss: 0.1044 - val_loss: 0.1026\n"
          ]
        },
        {
          "output_type": "execute_result",
          "data": {
            "text/plain": [
              "<keras.src.callbacks.History at 0x7d6b4b3b5420>"
            ]
          },
          "metadata": {},
          "execution_count": 31
        }
      ],
      "source": [
        "# Train the autoencoder\n",
        "autoencoder.fit(x_train, x_train, epochs=10, batch_size=128, shuffle=True, validation_data=(x_test, x_test))\n"
      ]
    },
    {
      "cell_type": "code",
      "source": [
        "# Generate images using the trained autoencoder\n",
        "decoded_imgs = autoencoder.predict(x_test)\n"
      ],
      "metadata": {
        "colab": {
          "base_uri": "https://localhost:8080/"
        },
        "id": "QyRO9ah2I8_6",
        "outputId": "e126651f-edfb-4511-dcf6-2d8956e1c0e8"
      },
      "id": "QyRO9ah2I8_6",
      "execution_count": null,
      "outputs": [
        {
          "output_type": "stream",
          "name": "stdout",
          "text": [
            "313/313 [==============================] - 1s 2ms/step\n"
          ]
        }
      ]
    },
    {
      "cell_type": "code",
      "source": [
        "\n",
        "# Visualize original and generated images\n",
        "n = 10  # Number of digits to display\n",
        "plt.figure(figsize=(20, 4))\n",
        "\n",
        "for i in range(n):\n",
        "    # Display original images\n",
        "    ax = plt.subplot(2, n, i + 1)\n",
        "    plt.imshow(test_data[i].reshape(28, 28))\n",
        "    plt.gray()\n",
        "    plt.title(\"Original Images\")\n",
        "    ax.get_xaxis().set_visible(False)\n",
        "    ax.get_yaxis().set_visible(False)\n",
        "\n",
        "    # Display generated images\n",
        "    ax = plt.subplot(2, n, i + 1 + n)\n",
        "    plt.imshow(decoded_imgs[i].reshape(28, 28))\n",
        "    plt.gray()\n",
        "    plt.title(\"regenerated img\")\n",
        "    ax.get_xaxis().set_visible(False)\n",
        "    ax.get_yaxis().set_visible(False)\n",
        "\n",
        "plt.show()\n"
      ],
      "metadata": {
        "colab": {
          "base_uri": "https://localhost:8080/",
          "height": 292
        },
        "id": "xRrw-4iII-3a",
        "outputId": "ae8f9902-e00a-462b-8ea1-baf7c02b5996"
      },
      "id": "xRrw-4iII-3a",
      "execution_count": null,
      "outputs": [
        {
          "output_type": "display_data",
          "data": {
            "text/plain": [
              "<Figure size 2000x400 with 20 Axes>"
            ],
            "image/png": "[encoded data removed]"
          },
          "metadata": {}
        }
      ]
    },
    {
      "cell_type": "code",
      "source": [],
      "metadata": {
        "id": "F4pZzbFjLvEe"
      },
      "id": "F4pZzbFjLvEe",
      "execution_count": null,
      "outputs": []
    }
  ],
  "metadata": {
    "kernelspec": {
      "display_name": "Python 3",
      "name": "python3"
    },
    "language_info": {
      "codemirror_mode": {
        "name": "ipython",
        "version": 3
      },
      "file_extension": ".py",
      "mimetype": "text/x-python",
      "name": "python",
      "nbconvert_exporter": "python",
      "pygments_lexer": "ipython3",
      "version": "3.10.8"
    },
    "colab": {
      "provenance": [],
      "gpuType": "T4",
      "include_colab_link": true
    },
    "accelerator": "GPU"
  },
  "nbformat": 4,
  "nbformat_minor": 5
}